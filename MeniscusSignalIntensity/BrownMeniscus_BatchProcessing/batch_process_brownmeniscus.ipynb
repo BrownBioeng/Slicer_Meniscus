{
 "cells": [
  {
   "cell_type": "code",
   "execution_count": 23,
   "id": "0aad7cad",
   "metadata": {},
   "outputs": [],
   "source": [
    "import glob\n",
    "import os"
   ]
  },
  {
   "cell_type": "code",
   "execution_count": 24,
   "id": "1f2d7e63",
   "metadata": {},
   "outputs": [],
   "source": [
    "# collect folder names \n",
    "folder_names = glob.glob(r\"P:\\DBarnes\\Meniscus\\Slicer_6mo_data\\*\")"
   ]
  },
  {
   "cell_type": "code",
   "execution_count": 25,
   "id": "919a44fe",
   "metadata": {},
   "outputs": [],
   "source": [
    "# Remove any in the list that don't start with BEAR\n",
    "folders = []\n",
    "for i in folder_names:\n",
    "    if 'BEAR' in i:\n",
    "        folders.append(i)"
   ]
  },
  {
   "cell_type": "code",
   "execution_count": 26,
   "id": "f629b2f4",
   "metadata": {},
   "outputs": [],
   "source": [
    "folder = folders[:1]"
   ]
  },
  {
   "cell_type": "code",
   "execution_count": 27,
   "id": "a357808c",
   "metadata": {},
   "outputs": [],
   "source": [
    "for files in folder:\n",
    "    folder = os.path.join(files,\"*\")\n",
    "    folder_open = glob.glob(folder)\n",
    "    # Save STLs\n",
    "    for item in folder_open:\n",
    "        if item.endswith('_MM.stl'):\n",
    "            mm_stl = item\n",
    "        elif item.endswith('_LM.stl'):\n",
    "            lm_stl = item\n",
    "    # Save Dicom Folder \n",
    "        for dirpath, dirnames, filenames in os.walk(item):\n",
    "            if any(filename.lower().endswith('.dcm') for filename in filenames):\n",
    "                dcm_folder = dirpath\n",
    "    #Right or left \n",
    "    if \"right\" in files:\n",
    "        anatomy = \"right\"\n",
    "    else:\n",
    "        anatomy = \"left\"\n",
    "    "
   ]
  },
  {
   "cell_type": "code",
   "execution_count": 28,
   "id": "99c2c250",
   "metadata": {},
   "outputs": [
    {
     "data": {
      "text/plain": [
       "'left'"
      ]
     },
     "execution_count": 28,
     "metadata": {},
     "output_type": "execute_result"
    }
   ],
   "source": [
    "anatomy"
   ]
  },
  {
   "cell_type": "code",
   "execution_count": 29,
   "id": "947f79cb",
   "metadata": {},
   "outputs": [
    {
     "data": {
      "text/plain": [
       "'P:\\\\DBarnes\\\\Meniscus\\\\Slicer_6mo_data\\\\BEAR_II_100_6_M_left_Sx_BEAR_CISS\\\\B2_100_6mo'"
      ]
     },
     "execution_count": 29,
     "metadata": {},
     "output_type": "execute_result"
    }
   ],
   "source": [
    "dcm_folder"
   ]
  },
  {
   "cell_type": "code",
   "execution_count": 30,
   "id": "279e92c6",
   "metadata": {},
   "outputs": [
    {
     "data": {
      "text/plain": [
       "'P:\\\\DBarnes\\\\Meniscus\\\\Slicer_6mo_data\\\\BEAR_II_100_6_M_left_Sx_BEAR_CISS\\\\BEAR_II_100_6_M_left_Sx_BEAR_CISS_LM.stl'"
      ]
     },
     "execution_count": 30,
     "metadata": {},
     "output_type": "execute_result"
    }
   ],
   "source": [
    "lm_stl"
   ]
  },
  {
   "cell_type": "code",
   "execution_count": 31,
   "id": "284b308a",
   "metadata": {},
   "outputs": [
    {
     "data": {
      "text/plain": [
       "'P:\\\\DBarnes\\\\Meniscus\\\\Slicer_6mo_data\\\\BEAR_II_100_6_M_left_Sx_BEAR_CISS\\\\BEAR_II_100_6_M_left_Sx_BEAR_CISS_MM.stl'"
      ]
     },
     "execution_count": 31,
     "metadata": {},
     "output_type": "execute_result"
    }
   ],
   "source": [
    "mm_stl"
   ]
  },
  {
   "cell_type": "code",
   "execution_count": null,
   "id": "1be625b4",
   "metadata": {},
   "outputs": [],
   "source": []
  }
 ],
 "metadata": {
  "kernelspec": {
   "display_name": "vscode-base",
   "language": "python",
   "name": "python3"
  },
  "language_info": {
   "codemirror_mode": {
    "name": "ipython",
    "version": 3
   },
   "file_extension": ".py",
   "mimetype": "text/x-python",
   "name": "python",
   "nbconvert_exporter": "python",
   "pygments_lexer": "ipython3",
   "version": "3.11.9"
  }
 },
 "nbformat": 4,
 "nbformat_minor": 5
}
